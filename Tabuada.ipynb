{
  "nbformat": 4,
  "nbformat_minor": 0,
  "metadata": {
    "colab": {
      "name": "Tabuada.ipynb",
      "provenance": [],
      "authorship_tag": "ABX9TyPH9Ey8rBf7um2GHcD3qLmB"
    },
    "kernelspec": {
      "name": "python3",
      "display_name": "Python 3"
    },
    "language_info": {
      "name": "python"
    }
  },
  "cells": [
    {
      "cell_type": "code",
      "execution_count": null,
      "metadata": {
        "id": "IREQaGMgxCqv"
      },
      "outputs": [],
      "source": [
        "i = 1\n",
        "x = int(input(\"Digite um numero: \"))\n",
        "while i <= 10:\n",
        "  print(i,\" X \",x ,\"=\", i * x)\n",
        "  i = i + 1\n",
        "print(\"fim\")\n"
      ]
    },
    {
      "cell_type": "code",
      "source": [
        "numero = int(input('Digite o número'))\n",
        "\n",
        "for i in range(1, 11):\n",
        "  print(f'{numero} x {i} = {numero*i}')"
      ],
      "metadata": {
        "id": "y7Mo1ykc6uY6"
      },
      "execution_count": null,
      "outputs": []
    }
  ]
}