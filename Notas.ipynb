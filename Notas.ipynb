{
  "nbformat": 4,
  "nbformat_minor": 0,
  "metadata": {
    "colab": {
      "name": "Notas.ipynb",
      "provenance": [],
      "authorship_tag": "ABX9TyOHqVdM4W/36C5bwcsuxctp"
    },
    "kernelspec": {
      "name": "python3",
      "display_name": "Python 3"
    },
    "language_info": {
      "name": "python"
    }
  },
  "cells": [
    {
      "cell_type": "code",
      "execution_count": 18,
      "metadata": {
        "colab": {
          "base_uri": "https://localhost:8080/"
        },
        "id": "4c4MCmQin1aE",
        "outputId": "ea8cadd0-2e84-4830-a6e9-58b28ec6a327"
      },
      "outputs": [
        {
          "output_type": "stream",
          "name": "stdout",
          "text": [
            "Digite a nota 1: 1\n",
            "Digite a nota 2: 4\n",
            "Digite a nota 3: 10\n",
            "5.0\n",
            "Você reprovou\n"
          ]
        }
      ],
      "source": [
        "nota1 = int(input(\"Digite a nota 1: \"))\n",
        "nota2 = int(input(\"Digite a nota 2: \"))\n",
        "nota3 = int(input(\"Digite a nota 3: \"))\n",
        "media = (nota1 + nota2 + nota3)/3\n",
        "print(media)\n",
        "if media >= 7 and media <10:\n",
        "  print(\"Parábens você passou\")\n",
        "elif media == 10:\n",
        "  print(\"Aprovado com distinção\")\n",
        "else:\n",
        "  print(\"Você reprovou\")\n",
        "    \n"
      ]
    },
    {
      "cell_type": "code",
      "source": [
        ""
      ],
      "metadata": {
        "id": "KqYQm9QxrQ72"
      },
      "execution_count": null,
      "outputs": []
    }
  ]
}